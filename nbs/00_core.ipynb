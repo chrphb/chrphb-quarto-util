{
 "cells": [
  {
   "cell_type": "markdown",
   "metadata": {},
   "source": [
    "# core\n",
    "\n",
    "> Core Module: Manage Posts"
   ]
  },
  {
   "cell_type": "code",
   "execution_count": 1,
   "metadata": {},
   "outputs": [],
   "source": [
    "#| default_exp core"
   ]
  },
  {
   "cell_type": "code",
   "execution_count": 1,
   "metadata": {},
   "outputs": [],
   "source": [
    "#| hide\n",
    "from nbdev.showdoc import *"
   ]
  },
  {
   "cell_type": "markdown",
   "metadata": {},
   "source": [
    "Here, I provide automation for writing posts. "
   ]
  },
  {
   "cell_type": "code",
   "execution_count": 2,
   "metadata": {},
   "outputs": [],
   "source": [
    "#| export\n",
    "import os\n",
    "from datetime import date\n",
    "import shutil"
   ]
  },
  {
   "cell_type": "markdown",
   "metadata": {},
   "source": [
    "I want to automatically set the right date in the template file.\n",
    "\n",
    "So, instead of simply copying the file, I will read the content and write a new file, while replacing a string $DATE with the current date."
   ]
  },
  {
   "cell_type": "code",
   "execution_count": 3,
   "metadata": {},
   "outputs": [],
   "source": [
    "#| export\n",
    "\n",
    "def generate_file_content(src, dst):\n",
    "    \"\"\"\n",
    "      Generates the file content\n",
    "    \"\"\"\n",
    "    from locale import setlocale, LC_TIME\n",
    "    setlocale(LC_TIME, 'fr_FR.UTF-8')\n",
    "    today = date.today()\n",
    "    # format the date today in french with full names for week day and month \n",
    "    today_fr = today.strftime(\"%A %d %B %Y\")\n",
    "    # use the french locale for the strftime of today_fr\n",
    "    #today_fr = today_fr.format(fr_FR)\n",
    "    print(today_fr)\n",
    "    # open the file with path src in read mode\n",
    "    with open(src, \"r\") as file:\n",
    "        content = file.read()\n",
    "        # in the content string, replace $DATE with \"hello\"\n",
    "        content = content.replace(\"$DATE\", str(today))\n",
    "        content = content.replace(\"$TITLE\", today_fr)\n",
    "        #print(content)\n",
    "        # open the file with path dst in write mode, encoding utf-8\n",
    "        with open(dst, \"w\", encoding=\"utf-8\") as outfile:\n",
    "            outfile.write(content)\n",
    "\n",
    "def create_post_from_template(template_dir, posts_dir, title):\n",
    "    \"\"\"\n",
    "      Creates a new Post entry in the Journal\n",
    "      The path of the post is based on the current date\n",
    "      Automatically sets the date metadata\n",
    "    \"\"\"\n",
    "    today = date.today()\n",
    "    name = str(today)+'-'+title\n",
    "    print(name)\n",
    "    # Path \n",
    "    path = os.path.join(posts_dir, name) \n",
    "    os.mkdir(path) \n",
    "    print(f\"Directory created {name}\") \n",
    "    src = template_dir + \"/index.ipynb\"\n",
    "    dst = posts_dir + \"/\" + name + \"/index.ipynb\"\n",
    "    generate_file_content(src, dst)"
   ]
  },
  {
   "cell_type": "code",
   "execution_count": 5,
   "metadata": {},
   "outputs": [],
   "source": [
    "#| hide\n",
    "import nbdev; nbdev.nbdev_export()"
   ]
  }
 ],
 "metadata": {
  "kernelspec": {
   "display_name": "Python 3 (ipykernel)",
   "language": "python",
   "name": "python3"
  },
  "language_info": {
   "codemirror_mode": {
    "name": "ipython",
    "version": 3
   },
   "file_extension": ".py",
   "mimetype": "text/x-python",
   "name": "python",
   "nbconvert_exporter": "python",
   "pygments_lexer": "ipython3",
   "version": "3.12.4"
  }
 },
 "nbformat": 4,
 "nbformat_minor": 4
}
